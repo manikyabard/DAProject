{
 "cells": [
  {
   "cell_type": "code",
   "execution_count": null,
   "metadata": {},
   "outputs": [],
   "source": [
    "#hide\n",
    "# from DAProject.core import *"
   ]
  },
  {
   "cell_type": "markdown",
   "metadata": {},
   "source": [
    "# Data Analytics (UE18CS312) Project\n",
    "## Submission from Team PG11_PyBinod\n",
    "- <b>Manikya Bardhan</b> (PES2201800351)\n",
    "- <b>Joe Rishon Manoj</b> (PES2201800340)\n",
    "- <b>Rakshith R Acharya</b> (PES2201800165)"
   ]
  },
  {
   "cell_type": "markdown",
   "metadata": {},
   "source": [
    "### Directory Structure\n",
    "\n",
    "```bash\n",
    "├── data\n",
    "│   └── data.csv (Data from NAB Numenta Anomaly Benchmark)\n",
    "│\n",
    "├── docs (truncated)\n",
    "├── nbs (Contains all main project files)\n",
    "│   ├── ARIMA.ipynb \n",
    "│   ├── index.ipynb\n",
    "│   ├── Isolation-Forests.ipynb\n",
    "│   ├── One-Class-SVM.ipynb\n",
    "│   └── prophet.ipynb\n",
    "│\n",
    "├── README.md\n",
    "├── settings.ini\n",
    "├── setup.py\n",
    "└── .github/workflows\n",
    "    └── main.yml\n",
    "```"
   ]
  },
  {
   "cell_type": "markdown",
   "metadata": {},
   "source": [
    "### To reproduce the results, go to any of the notebooks present in the ```nbs``` folder and run the cells"
   ]
  },
  {
   "cell_type": "markdown",
   "metadata": {},
   "source": [
    "### Our main solution consists of using Prophet. It has been extensively described in ```nbs/prophet.ipynb```"
   ]
  },
  {
   "cell_type": "code",
   "execution_count": null,
   "metadata": {},
   "outputs": [],
   "source": []
  }
 ],
 "metadata": {
  "kernelspec": {
   "display_name": "Python 3",
   "language": "python",
   "name": "python3"
  }
 },
 "nbformat": 4,
 "nbformat_minor": 2
}
